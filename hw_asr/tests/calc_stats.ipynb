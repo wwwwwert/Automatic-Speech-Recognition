{
 "cells": [
  {
   "cell_type": "code",
   "execution_count": 1,
   "metadata": {},
   "outputs": [],
   "source": [
    "import json\n",
    "\n",
    "import numpy as np\n",
    "\n",
    "from hw_asr.metric.utils import calc_cer, calc_wer"
   ]
  },
  {
   "cell_type": "code",
   "execution_count": 2,
   "metadata": {},
   "outputs": [],
   "source": [
    "jsons = {\n",
    "    'test-clear': 'test-clean_result.json',\n",
    "    'test-other': 'test-other_result.json'\n",
    "}"
   ]
  },
  {
   "cell_type": "code",
   "execution_count": 3,
   "metadata": {},
   "outputs": [
    {
     "name": "stdout",
     "output_type": "stream",
     "text": [
      "test-clear mean CER: 0.09\n",
      "test-clear mean WER: 0.20 \n",
      "\n",
      "test-other mean CER: 0.25\n",
      "test-other mean WER: 0.48 \n",
      "\n"
     ]
    }
   ],
   "source": [
    "for name, path in jsons.items():\n",
    "    with open(path, 'r') as fp:\n",
    "        data = json.load(fp)\n",
    "    gt = [elem['ground_truth'] for elem in data]\n",
    "    pred = [elem['pred_text_beam_search_lm'][0] for elem in data]\n",
    "    cers = []\n",
    "    wers = []\n",
    "    for gt_text, pred_text in zip(gt, pred):\n",
    "        cers.append(calc_cer(gt_text, pred_text))\n",
    "        wers.append(calc_wer(gt_text, pred_text))\n",
    "    print(f'{name} mean CER:', f\"{np.mean(cers):.2f}\")\n",
    "    print(f'{name} mean WER:', f\"{np.mean(wers):.2f}\", '\\n')"
   ]
  }
 ],
 "metadata": {
  "kernelspec": {
   "display_name": "Python 3 (ipykernel)",
   "language": "python",
   "name": "python3"
  },
  "language_info": {
   "codemirror_mode": {
    "name": "ipython",
    "version": 3
   },
   "file_extension": ".py",
   "mimetype": "text/x-python",
   "name": "python",
   "nbconvert_exporter": "python",
   "pygments_lexer": "ipython3",
   "version": "3.9.7"
  }
 },
 "nbformat": 4,
 "nbformat_minor": 2
}
